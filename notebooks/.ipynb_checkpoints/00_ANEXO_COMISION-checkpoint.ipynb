{
 "cells": [
  {
   "cell_type": "code",
   "execution_count": null,
   "id": "877b2402-dab9-4cde-bf54-eb7f5083e512",
   "metadata": {},
   "outputs": [],
   "source": [
    "# Importar librerias\n",
    "import pandas as pd\n",
    "import numpy as np\n",
    "import pickle\n",
    "import sweetviz as sv\n",
    "import seaborn as sns\n",
    "import matplotlib.pyplot as plt\n",
    "import os\n",
    "\n",
    "# Configurar path\n",
    "os.chdir('/media/sf_iamas_datos2024/proyectos_parlamentarios/')\n",
    "pd.set_option('display.max_colwidth', None)"
   ]
  },
  {
   "cell_type": "code",
   "execution_count": null,
   "id": "c3cdcd2a-6340-491e-bc63-281a411046fb",
   "metadata": {},
   "outputs": [],
   "source": [
    "# Giro a comisiones\n",
    "# Última actualización de los metadatos\tAgosto 8, 2019\n",
    "girocom_df = pd.read_csv('diputados/giro_comisiones1.9.csv')\n",
    "print('Tamaño de dataset de Giro a comisiones:',girocom_df.shape)\n",
    "display(girocom_df.head(2))"
   ]
  },
  {
   "cell_type": "code",
   "execution_count": null,
   "id": "d0fde76e-db09-4b24-9582-aefba03163d9",
   "metadata": {},
   "outputs": [],
   "source": [
    "# https://pypi.org/project/textacy/\n",
    "import textacy\n",
    "import textacy.preprocessing as tprep\n",
    "\n",
    "\n",
    "def normalize(text):\n",
    "   text = tprep.normalize.hyphenated_words(text)\n",
    "   text = tprep.normalize.quotation_marks(text)\n",
    "   text = tprep.normalize.unicode(text)\n",
    "   text = tprep.remove.accents(text)\n",
    "   text = text.strip() \n",
    "   return text"
   ]
  },
  {
   "cell_type": "code",
   "execution_count": null,
   "id": "c4e4f85d-cc87-4971-ba92-c58bb5c47017",
   "metadata": {},
   "outputs": [],
   "source": [
    "# Clean\n",
    "girocom_df['comision_clean'] = girocom_df['comision']"
   ]
  },
  {
   "cell_type": "code",
   "execution_count": null,
   "id": "6a75f229-7f04-4faf-8600-a045989ddc06",
   "metadata": {},
   "outputs": [],
   "source": [
    "girocom_df['comision_clean'] = girocom_df['comision_clean'].apply(normalize)"
   ]
  },
  {
   "cell_type": "code",
   "execution_count": null,
   "id": "3d931438-7953-48a3-b5d4-d7db64323e28",
   "metadata": {},
   "outputs": [],
   "source": [
    "comision_list = girocom_df['comision_clean'].unique()\n",
    "comision_list"
   ]
  },
  {
   "cell_type": "code",
   "execution_count": null,
   "id": "fa9ede60-c6c5-44a6-aaa5-d55695febf45",
   "metadata": {},
   "outputs": [],
   "source": [
    "# clean\n",
    "comision_list = [normalize(x) for x in comision_list]"
   ]
  },
  {
   "cell_type": "code",
   "execution_count": null,
   "id": "97cb0353-386d-4393-b13f-920977520f45",
   "metadata": {},
   "outputs": [],
   "source": [
    "# libreria\n",
    "from fuzzywuzzy import fuzz \n",
    "from fuzzywuzzy import process "
   ]
  },
  {
   "cell_type": "code",
   "execution_count": null,
   "id": "586430e6-a207-4fb3-a1d0-16c6c0df5683",
   "metadata": {},
   "outputs": [],
   "source": [
    "# https://www.geeksforgeeks.org/how-to-do-fuzzy-matching-on-pandas-dataframe-column-using-python/\n",
    "list1 = comision_list\n",
    "list2 = comision_list \n",
    "\n",
    "# taking the threshold as 80 \n",
    "threshold = 80"
   ]
  },
  {
   "cell_type": "code",
   "execution_count": null,
   "id": "5bf86fcf-d7b9-4233-a1f5-79ca6a3a1e49",
   "metadata": {},
   "outputs": [],
   "source": [
    "# empty lists for storing the matches \n",
    "# later \n",
    "mat1 = [] \n",
    "mat2 = [] \n",
    "p = [] "
   ]
  },
  {
   "cell_type": "code",
   "execution_count": null,
   "id": "ba2b851f-94a8-4de2-926e-4adc99bc228e",
   "metadata": {},
   "outputs": [],
   "source": [
    "# converting to pandas dataframes \n",
    "dframe1 = pd.DataFrame(list1) \n",
    "dframe2 = pd.DataFrame(list1) "
   ]
  },
  {
   "cell_type": "code",
   "execution_count": null,
   "id": "a9d6e44c-012d-4ba5-868f-7d9792eeb060",
   "metadata": {},
   "outputs": [],
   "source": [
    "# iterating through list1 to extract \n",
    "# it's closest match from list2 \n",
    "for i in list1: \n",
    "    list3 = [ x  for x in list2 if x!= i] \n",
    "    \n",
    "    mat1.append(process.extractOne( \n",
    "      i, list3, scorer=fuzz.token_set_ratio)) \n",
    "mat1"
   ]
  },
  {
   "cell_type": "code",
   "execution_count": null,
   "id": "35ab5f40-80b3-4f46-9528-cbdbfa197c63",
   "metadata": {},
   "outputs": [],
   "source": [
    "dframe1['matches'] = mat1 \n",
    "dframe1 "
   ]
  },
  {
   "cell_type": "code",
   "execution_count": null,
   "id": "2eeb5500-445d-4a85-bf65-d50991448098",
   "metadata": {},
   "outputs": [],
   "source": [
    " # iterating through the closest matches \n",
    "# to filter out the maximum closest match \n",
    "for j in dframe1['matches']: \n",
    "    if j[1] >= threshold: \n",
    "        p.append(j[0]) \n",
    "    mat2.append(\",\".join(p)) \n",
    "    p = [] \n",
    "  \n",
    "  \n",
    "# storing the resultant matches back  \n",
    "# to dframe1 \n",
    "dframe1['matches'] = mat2 \n",
    "print(\"\\nDataFrame after Fuzzy matching using token_set_ratio():\") \n",
    "dframe1 "
   ]
  },
  {
   "cell_type": "code",
   "execution_count": null,
   "id": "27f9dbdf-9c1c-4e99-a9e8-6982b01332af",
   "metadata": {},
   "outputs": [],
   "source": [
    "dframe1.sort_values(by = 'matches', ascending = False)"
   ]
  },
  {
   "cell_type": "code",
   "execution_count": null,
   "id": "24905f80-1504-4b2f-ac67-c95cdc875f47",
   "metadata": {},
   "outputs": [],
   "source": []
  }
 ],
 "metadata": {
  "kernelspec": {
   "display_name": "env_iamas_pa",
   "language": "python",
   "name": "env_iamas_pa"
  },
  "language_info": {
   "codemirror_mode": {
    "name": "ipython",
    "version": 3
   },
   "file_extension": ".py",
   "mimetype": "text/x-python",
   "name": "python",
   "nbconvert_exporter": "python",
   "pygments_lexer": "ipython3",
   "version": "3.10.12"
  }
 },
 "nbformat": 4,
 "nbformat_minor": 5
}
